{
  "nbformat": 4,
  "nbformat_minor": 0,
  "metadata": {
    "colab": {
      "name": "Asma Auliarani_H051211009_Tugas Alprog Pekan 13_Fix",
      "provenance": [],
      "collapsed_sections": [],
      "authorship_tag": "ABX9TyPljFQx3rHwfytizLA9wnsn",
      "include_colab_link": true
    },
    "kernelspec": {
      "name": "python3",
      "display_name": "Python 3"
    },
    "language_info": {
      "name": "python"
    }
  },
  "cells": [
    {
      "cell_type": "markdown",
      "metadata": {
        "id": "view-in-github",
        "colab_type": "text"
      },
      "source": [
        "<a href=\"https://colab.research.google.com/github/asmaaulia12/file-tugas/blob/main/Asma_Auliarani_H051211009_Tugas_Alprog_Pekan_13_Fix.ipynb\" target=\"_parent\"><img src=\"https://colab.research.google.com/assets/colab-badge.svg\" alt=\"Open In Colab\"/></a>"
      ]
    },
    {
      "cell_type": "code",
      "execution_count": null,
      "metadata": {
        "id": "WlZElbcphpfG"
      },
      "outputs": [],
      "source": [
        "# Nama  : Asma Auliarani\n",
        "# NIM   : H051211009\n",
        "# Kelas : Algoritma dan Pemprograman A"
      ]
    },
    {
      "cell_type": "code",
      "source": [
        "# Buatlah program untuk menghitung penjumlahan 2 buah matriks\n",
        "#Membuatmatriks\n",
        "baris = int(input('Masukkan jumlah baris: '))\n",
        "kolom = int(input('Masukkan jumlah kolom: '))\n",
        "\n",
        "print('Masukkan elemen untuk matriks pertama: ')\n",
        "matriks_a = [[int(input()) for i in range(kolom)] for i in range(baris)]\n",
        "print('Matriks pertama adalah: ')\n",
        "for n in matriks_a:\n",
        "    print(n)\n",
        "\n",
        "print('Masukkan elemen untuk matriks kedua: ')\n",
        "matriks_b = [[int(input()) for i in range(kolom)] for i in range(baris)]\n",
        "for n in matriks_b:\n",
        "    print(n)\n",
        "\n",
        "Hasil = [[0 for i in range(kolom)] for i in range(baris)]\n",
        "\n",
        "for i in range(baris):\n",
        "    for j in range(kolom):\n",
        "        Hasil[i][j] = matriks_a[i][j] + matriks_b[i][j]\n",
        "\n",
        "print('Hasil dari penjumlahan kedua matriks adalah: ')\n",
        "for h in Hasil:\n",
        "    print(h)"
      ],
      "metadata": {
        "id": "awLNOOVT88rm"
      },
      "execution_count": null,
      "outputs": []
    },
    {
      "cell_type": "code",
      "source": [
        "# 1. Buatlah program untuk menghitung total pembelian N buah barang dengan harga dan jumlah tertentu\n",
        "\n",
        "Jenis_Barang =int(input('Berapa jenis barang yang dibeli: '))\n",
        "for i in range(Jenis_Barang):\n",
        "  print()\n",
        "  print('Barang ke - ',str(i+1))\n",
        "  Nama_Barang = input('Nama Barang: ')\n",
        "  Harga_Satuan = eval(input(('Harga Satuan Barang: ')))\n",
        "  Jumlah_barang = eval(input(('Jumlah Barang: ')))\n",
        "  Harga_total = 0\n",
        "  Harga_total=Harga_Satuan*Jumlah_barang\n",
        "  print('Harga total = Rp', Harga_total)"
      ],
      "metadata": {
        "id": "kUocUSd3iLVg"
      },
      "execution_count": null,
      "outputs": []
    },
    {
      "cell_type": "code",
      "source": [
        "# 2. Buatlah program untuk menghitung banyaknya bilangan genap ataupun bilangan ganjil dari N buah bilangan yang diinput secara acak\n",
        "\n",
        "List_bilangan = []\n",
        "Jum_genap = 0\n",
        "Jum_ganjil = 0\n",
        "\n",
        "Bilangan = int(input('Masukkan Jumlah Anggota List Bilangan: '))\n",
        "for i in range(1, Bilangan+1):\n",
        "  Anggota_Bilangan = int(input('Masukkan Anggota %d List Bilangan: ' %i))\n",
        "  List_bilangan.append(Anggota_Bilangan)\n",
        "\n",
        "for j in range(Bilangan):\n",
        "  if(List_bilangan[j] %2 == 0):\n",
        "    Jum_genap = Jum_genap + 1\n",
        "  else:\n",
        "    Jum_ganjil = Jum_ganjil + 1\n",
        "print('Jumlah bilangan genap dalam list adalah', Jum_genap)\n",
        "print('Jumlah bilangan ganjil dalam list adalah', Jum_ganjil)"
      ],
      "metadata": {
        "id": "9GLPLWaRixTV"
      },
      "execution_count": null,
      "outputs": []
    },
    {
      "cell_type": "code",
      "source": [
        "#3. Buatlah program untuk menampilkan bilangan kelipatan 3 diantara bilangan tertentu\n",
        "\n",
        "awal = int(input('Input Nilai Awal: '))\n",
        "akhir = int(input('Input Nilai Akhir: '))\n",
        "for t in range(awal, akhir+1):\n",
        "  if t%3==0:\n",
        "    print(t)"
      ],
      "metadata": {
        "id": "fsByEnfcjFyQ"
      },
      "execution_count": null,
      "outputs": []
    },
    {
      "cell_type": "code",
      "source": [
        "#4. Buatlah program untuk menampilkan bentuk bilangan seperti berikut ini:\n",
        "#   Bilangan : <input suatu bilangan (misal:5)>\n",
        "#   1\n",
        "#   12\n",
        "#   123\n",
        "#   1234\n",
        "#   12345\n",
        "\n",
        "\n",
        "baris = 6\n",
        "for baris in range(1, baris):\n",
        "  num = 1\n",
        "  for m in range(baris):\n",
        "    if m>baris:\n",
        "      print(\" \", end=' ')\n",
        "    else:\n",
        "      print(num, end=' ')\n",
        "      num += 1\n",
        "  print(' ')"
      ],
      "metadata": {
        "id": "EfSN3--Bj4vW"
      },
      "execution_count": null,
      "outputs": []
    },
    {
      "cell_type": "code",
      "source": [
        "#5. Buatlah program untuk menghitung dan menampilkan bentuk berikut ini:\n",
        "#-------------------------------------------------------------------------------\n",
        "#No. Nama Mhs N.Tugas N.Kuis N.UTS N.UAS NilaiAkhir\n",
        "#-------------------------------------------------------------------------------\n",
        "#1 \n",
        "#2\n",
        "#..\n",
        "#N\n",
        "\n",
        "list_No = []\n",
        "list_Nama_Mhs = []\n",
        "list_N_Tugas = []\n",
        "list_N_Kuis = []\n",
        "list_N_UTS = []\n",
        "list_N_UAS =[]\n",
        "list_NilaiAkhir = []\n",
        "\n",
        "Nilai =int(input('Jumlah Mahasiswa: '))\n",
        "for i in range(Nilai):\n",
        "  print()\n",
        "  print('Data ke - ',str(i+1))\n",
        "  list_Nama_Mhs.append(input('Masukkan Nama Anda: '))\n",
        "  list_N_Tugas.append(int(input('Masukkan Nilai Tugas Anda: ')))\n",
        "  list_N_Kuis.append(int(input('Masukkan Nilai Kuis Anda: ')))\n",
        "  list_N_UTS.append(int(input('Masukkan Nilai UTS Anda: ')))\n",
        "  list_N_UAS.append(int(input('Masukkan Nilai UAS Anda: ')))\n",
        "  print()\n",
        "\n",
        "for i in range(Nilai): \n",
        "  list_No.append(str(i+1))\n",
        "  list_NilaiAkhir.append((list_N_Tugas[i] + list_N_Kuis[i] + list_N_UTS[i] + list_N_UAS[i])/4)\n",
        "  \n",
        "print()\n",
        "\n",
        "print('-'*110)\n",
        "print('No.   Nama Mhs  N.Tugas  N.Kuis  N.UTS  N.UAS  Nilai Akhir')\n",
        "print('-'*110)\n",
        "for i in range(Nilai):\n",
        "  print(list_No[i],'\\t',list_Nama_Mhs[i],'\\t',list_N_Tugas[i],' \\t ',list_N_Kuis[i],' \\t ',list_N_UTS[i],' \\t ',list_N_UAS[i],'\\t  ', list_NilaiAkhir[i] )"
      ],
      "metadata": {
        "id": "8KYN_ldakQsK"
      },
      "execution_count": null,
      "outputs": []
    }
  ]
}